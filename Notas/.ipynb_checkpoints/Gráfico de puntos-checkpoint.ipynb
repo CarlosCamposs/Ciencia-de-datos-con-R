{
 "cells": [
  {
   "cell_type": "markdown",
   "id": "17c65ab9",
   "metadata": {},
   "source": [
    "# Gráfico de puntos"
   ]
  },
  {
   "cell_type": "code",
   "execution_count": 2,
   "id": "40c52366",
   "metadata": {},
   "outputs": [
    {
     "name": "stdout",
     "output_type": "stream",
     "text": [
      "package 'nycflights13' successfully unpacked and MD5 sums checked\n",
      "\n",
      "The downloaded binary packages are in\n",
      "\tC:\\Users\\Carlos Daniel\\AppData\\Local\\Temp\\RtmpUnLCli\\downloaded_packages\n"
     ]
    },
    {
     "name": "stderr",
     "output_type": "stream",
     "text": [
      "also installing the dependencies 'htmltools', 'processx', 'xfun', 'bslib', 'tinytex', 'lifecycle', 'tidyselect', 'vctrs', 'scales', 'gargle', 'timechange', 'vroom', 'callr', 'knitr', 'rmarkdown', 'glue', 'broom', 'cli', 'dbplyr', 'dplyr', 'dtplyr', 'forcats', 'ggplot2', 'googledrive', 'googlesheets4', 'haven', 'hms', 'lubridate', 'modelr', 'pillar', 'readr', 'reprex', 'rlang', 'rvest', 'stringr', 'tibble', 'tidyr', 'xml2'\n",
      "\n"
     ]
    },
    {
     "name": "stdout",
     "output_type": "stream",
     "text": [
      "\n",
      "  There are binary versions available but the source versions are later:\n",
      "               binary source needs_compilation\n",
      "htmltools     0.5.1.1  0.5.4              TRUE\n",
      "processx        3.5.2  3.8.0              TRUE\n",
      "xfun             0.22   0.35              TRUE\n",
      "bslib           0.2.4  0.4.1             FALSE\n",
      "tinytex          0.31   0.42             FALSE\n",
      "lifecycle       1.0.0  1.0.3             FALSE\n",
      "tidyselect      1.1.1  1.2.0             FALSE\n",
      "vctrs           0.3.8  0.5.1              TRUE\n",
      "scales          1.1.1  1.2.1             FALSE\n",
      "gargle          1.1.0  1.2.1             FALSE\n",
      "timechange      0.0.2  0.1.1              TRUE\n",
      "vroom           1.4.0  1.6.0              TRUE\n",
      "callr           3.7.0  3.7.3             FALSE\n",
      "knitr            1.33   1.41             FALSE\n",
      "rmarkdown         2.8   2.18             FALSE\n",
      "glue            1.4.2  1.6.2              TRUE\n",
      "broom           0.7.6  1.0.1             FALSE\n",
      "cli             2.5.0  3.4.1              TRUE\n",
      "dbplyr          2.1.1  2.2.1             FALSE\n",
      "dplyr           1.0.6 1.0.10              TRUE\n",
      "dtplyr          1.1.0  1.2.2             FALSE\n",
      "forcats         0.5.1  0.5.2             FALSE\n",
      "ggplot2         3.3.3  3.4.0             FALSE\n",
      "googledrive     1.0.1  2.0.0             FALSE\n",
      "googlesheets4   0.3.0  1.0.1             FALSE\n",
      "haven           2.4.1  2.5.1              TRUE\n",
      "hms             1.0.0  1.1.2             FALSE\n",
      "lubridate      1.7.10  1.9.0              TRUE\n",
      "modelr          0.1.8 0.1.10             FALSE\n",
      "pillar          1.6.0  1.8.1             FALSE\n",
      "readr           1.4.0  2.1.3              TRUE\n",
      "reprex          2.0.0  2.0.2             FALSE\n",
      "rlang          0.4.11  1.0.6              TRUE\n",
      "rvest           1.0.0  1.0.3             FALSE\n",
      "stringr         1.4.0  1.5.0             FALSE\n",
      "tibble          3.1.1  3.1.8              TRUE\n",
      "tidyr           1.1.3  1.2.1              TRUE\n",
      "xml2            1.3.2  1.3.3              TRUE\n",
      "tidyverse       1.3.1  1.3.2             FALSE\n",
      "\n",
      "  Binaries will be installed\n",
      "package 'htmltools' successfully unpacked and MD5 sums checked\n"
     ]
    },
    {
     "name": "stderr",
     "output_type": "stream",
     "text": [
      "Warning message:\n",
      "\"cannot remove prior installation of package 'htmltools'\"Warning message in file.copy(savedcopy, lib, recursive = TRUE):\n",
      "\"problema al copiar C:\\Users\\Carlos Daniel\\anaconda3\\Lib\\R\\library\\00LOCK\\htmltools\\libs\\x64\\htmltools.dll  a C:\\Users\\Carlos Daniel\\anaconda3\\Lib\\R\\library\\htmltools\\libs\\x64\\htmltools.dll: Permission denied\"Warning message:\n",
      "\"restored 'htmltools'\""
     ]
    },
    {
     "name": "stdout",
     "output_type": "stream",
     "text": [
      "package 'processx' successfully unpacked and MD5 sums checked\n",
      "package 'xfun' successfully unpacked and MD5 sums checked\n",
      "package 'vctrs' successfully unpacked and MD5 sums checked\n",
      "package 'timechange' successfully unpacked and MD5 sums checked\n",
      "package 'vroom' successfully unpacked and MD5 sums checked\n",
      "package 'glue' successfully unpacked and MD5 sums checked\n",
      "package 'cli' successfully unpacked and MD5 sums checked\n",
      "package 'dplyr' successfully unpacked and MD5 sums checked\n",
      "package 'haven' successfully unpacked and MD5 sums checked\n",
      "package 'lubridate' successfully unpacked and MD5 sums checked\n",
      "package 'readr' successfully unpacked and MD5 sums checked\n",
      "package 'rlang' successfully unpacked and MD5 sums checked\n"
     ]
    },
    {
     "name": "stderr",
     "output_type": "stream",
     "text": [
      "Warning message:\n",
      "\"cannot remove prior installation of package 'rlang'\"Warning message in file.copy(savedcopy, lib, recursive = TRUE):\n",
      "\"problema al copiar C:\\Users\\Carlos Daniel\\anaconda3\\Lib\\R\\library\\00LOCK\\rlang\\libs\\x64\\rlang.dll  a C:\\Users\\Carlos Daniel\\anaconda3\\Lib\\R\\library\\rlang\\libs\\x64\\rlang.dll: Permission denied\"Warning message:\n",
      "\"restored 'rlang'\""
     ]
    },
    {
     "name": "stdout",
     "output_type": "stream",
     "text": [
      "package 'tibble' successfully unpacked and MD5 sums checked\n",
      "package 'tidyr' successfully unpacked and MD5 sums checked\n",
      "package 'xml2' successfully unpacked and MD5 sums checked\n",
      "\n",
      "The downloaded binary packages are in\n",
      "\tC:\\Users\\Carlos Daniel\\AppData\\Local\\Temp\\RtmpUnLCli\\downloaded_packages\n"
     ]
    },
    {
     "name": "stderr",
     "output_type": "stream",
     "text": [
      "installing the source packages 'bslib', 'tinytex', 'lifecycle', 'tidyselect', 'scales', 'gargle', 'callr', 'knitr', 'rmarkdown', 'broom', 'dbplyr', 'dtplyr', 'forcats', 'ggplot2', 'googledrive', 'googlesheets4', 'hms', 'modelr', 'pillar', 'reprex', 'rvest', 'stringr', 'tidyverse'\n",
      "\n",
      "Warning message in install.packages(\"tidyverse\"):\n",
      "\"installation of package 'bslib' had non-zero exit status\"Warning message in install.packages(\"tidyverse\"):\n",
      "\"installation of package 'tinytex' had non-zero exit status\"Warning message in install.packages(\"tidyverse\"):\n",
      "\"installation of package 'lifecycle' had non-zero exit status\"Warning message in install.packages(\"tidyverse\"):\n",
      "\"installation of package 'gargle' had non-zero exit status\"Warning message in install.packages(\"tidyverse\"):\n",
      "\"installation of package 'callr' had non-zero exit status\"Warning message in install.packages(\"tidyverse\"):\n",
      "\"installation of package 'tidyselect' had non-zero exit status\"Warning message in install.packages(\"tidyverse\"):\n",
      "\"installation of package 'scales' had non-zero exit status\"Warning message in install.packages(\"tidyverse\"):\n",
      "\"installation of package 'forcats' had non-zero exit status\"Warning message in install.packages(\"tidyverse\"):\n",
      "\"installation of package 'hms' had non-zero exit status\"Warning message in install.packages(\"tidyverse\"):\n",
      "\"installation of package 'pillar' had non-zero exit status\"Warning message in install.packages(\"tidyverse\"):\n",
      "\"installation of package 'rvest' had non-zero exit status\"Warning message in install.packages(\"tidyverse\"):\n",
      "\"installation of package 'stringr' had non-zero exit status\"Warning message in install.packages(\"tidyverse\"):\n",
      "\"installation of package 'knitr' had non-zero exit status\"Warning message in install.packages(\"tidyverse\"):\n",
      "\"installation of package 'dbplyr' had non-zero exit status\"Warning message in install.packages(\"tidyverse\"):\n",
      "\"installation of package 'dtplyr' had non-zero exit status\"Warning message in install.packages(\"tidyverse\"):\n",
      "\"installation of package 'ggplot2' had non-zero exit status\"Warning message in install.packages(\"tidyverse\"):\n",
      "\"installation of package 'googledrive' had non-zero exit status\"Warning message in install.packages(\"tidyverse\"):\n",
      "\"installation of package 'rmarkdown' had non-zero exit status\"Warning message in install.packages(\"tidyverse\"):\n",
      "\"installation of package 'broom' had non-zero exit status\"Warning message in install.packages(\"tidyverse\"):\n",
      "\"installation of package 'googlesheets4' had non-zero exit status\"Warning message in install.packages(\"tidyverse\"):\n",
      "\"installation of package 'modelr' had non-zero exit status\"Warning message in install.packages(\"tidyverse\"):\n",
      "\"installation of package 'reprex' had non-zero exit status\"Warning message in install.packages(\"tidyverse\"):\n",
      "\"installation of package 'tidyverse' had non-zero exit status\"also installing the dependencies 'cli', 'glue', 'lifecycle', 'rlang', 'stringr', 'xfun'\n",
      "\n"
     ]
    },
    {
     "name": "stdout",
     "output_type": "stream",
     "text": [
      "\n",
      "  There are binary versions available but the source versions are later:\n",
      "          binary source needs_compilation\n",
      "cli        2.5.0  3.4.1              TRUE\n",
      "glue       1.4.2  1.6.2              TRUE\n",
      "lifecycle  1.0.0  1.0.3             FALSE\n",
      "rlang     0.4.11  1.0.6              TRUE\n",
      "stringr    1.4.0  1.5.0             FALSE\n",
      "xfun        0.22   0.35              TRUE\n",
      "knitr       1.33   1.41             FALSE\n",
      "\n",
      "  Binaries will be installed\n",
      "package 'cli' successfully unpacked and MD5 sums checked\n",
      "package 'glue' successfully unpacked and MD5 sums checked\n",
      "package 'rlang' successfully unpacked and MD5 sums checked\n"
     ]
    },
    {
     "name": "stderr",
     "output_type": "stream",
     "text": [
      "Warning message:\n",
      "\"cannot remove prior installation of package 'rlang'\"Warning message in file.copy(savedcopy, lib, recursive = TRUE):\n",
      "\"problema al copiar C:\\Users\\Carlos Daniel\\anaconda3\\Lib\\R\\library\\00LOCK\\rlang\\libs\\x64\\rlang.dll  a C:\\Users\\Carlos Daniel\\anaconda3\\Lib\\R\\library\\rlang\\libs\\x64\\rlang.dll: Permission denied\"Warning message:\n",
      "\"restored 'rlang'\""
     ]
    },
    {
     "name": "stdout",
     "output_type": "stream",
     "text": [
      "package 'xfun' successfully unpacked and MD5 sums checked\n",
      "\n",
      "The downloaded binary packages are in\n",
      "\tC:\\Users\\Carlos Daniel\\AppData\\Local\\Temp\\RtmpUnLCli\\downloaded_packages\n"
     ]
    },
    {
     "name": "stderr",
     "output_type": "stream",
     "text": [
      "installing the source packages 'lifecycle', 'stringr', 'knitr'\n",
      "\n",
      "Warning message in install.packages(\"knitr\"):\n",
      "\"installation of package 'lifecycle' had non-zero exit status\"Warning message in install.packages(\"knitr\"):\n",
      "\"installation of package 'stringr' had non-zero exit status\"Warning message in install.packages(\"knitr\"):\n",
      "\"installation of package 'knitr' had non-zero exit status\""
     ]
    }
   ],
   "source": [
    "# Cargamos las bibliotecas\n",
    "install.packages(\"nycflights13\")\n",
    "install.packages(\"tidyverse\")\n",
    "install.packages(\"knitr\")\n",
    "\n",
    "\n"
   ]
  },
  {
   "cell_type": "code",
   "execution_count": null,
   "id": "7a971197",
   "metadata": {},
   "outputs": [],
   "source": [
    "# Cargamos los datos\n",
    "library(nycflights13)\n",
    "library(tidyverse)\n",
    "library(knitr)\n",
    "setwd(\"C:/Users/Carlos Daniel/Desktop/GitHub/Ciencia-de-datos-con-R/datasets\")\n",
    "sismos <- read.csv(\"sismos.csv\")"
   ]
  },
  {
   "cell_type": "markdown",
   "id": "f0aedcf6",
   "metadata": {},
   "source": [
    "Con la capa `geom_point` se especifica que queremos realizar un gráfico de puntos"
   ]
  },
  {
   "cell_type": "code",
   "execution_count": null,
   "id": "f72d196d",
   "metadata": {},
   "outputs": [],
   "source": [
    "ggplot(data=sismos)+\n",
    "  geom_point(mapping=aes(x=Longitud,y=Latitud, color=zona),alpha=0.1)+\n",
    "  coord_map()"
   ]
  },
  {
   "cell_type": "code",
   "execution_count": null,
   "id": "efc68f64",
   "metadata": {},
   "outputs": [],
   "source": []
  }
 ],
 "metadata": {
  "kernelspec": {
   "display_name": "R",
   "language": "R",
   "name": "ir"
  },
  "language_info": {
   "codemirror_mode": "r",
   "file_extension": ".r",
   "mimetype": "text/x-r-source",
   "name": "R",
   "pygments_lexer": "r",
   "version": "3.6.1"
  }
 },
 "nbformat": 4,
 "nbformat_minor": 5
}
