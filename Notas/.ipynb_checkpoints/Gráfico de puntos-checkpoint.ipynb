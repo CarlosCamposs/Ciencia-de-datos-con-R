{
 "cells": [
  {
   "cell_type": "markdown",
   "id": "17c65ab9",
   "metadata": {},
   "source": [
    "# Gráfico de puntos"
   ]
  },
  {
   "cell_type": "code",
   "execution_count": 12,
   "id": "40c52366",
   "metadata": {},
   "outputs": [
    {
     "ename": "ERROR",
     "evalue": "Error in library(\"tidyverse\"): there is no package called 'tidyverse'\n",
     "output_type": "error",
     "traceback": [
      "Error in library(\"tidyverse\"): there is no package called 'tidyverse'\nTraceback:\n",
      "1. library(\"tidyverse\")"
     ]
    }
   ],
   "source": [
    "# Cargamos las bibliotecas\n",
    "#library(nycflights13)\n",
    "#library(tidyverse)\n",
    "#library(knitr)\n",
    "\n"
   ]
  },
  {
   "cell_type": "code",
   "execution_count": null,
   "id": "7a971197",
   "metadata": {},
   "outputs": [],
   "source": [
    "# Cargamos los datos\n",
    "setwd(\"C:/Users/Carlos Daniel/Desktop/GitHub/Ciencia-de-datos-con-R/datasets\")\n",
    "sismos <- read.csv(\"sismos.csv\")"
   ]
  },
  {
   "cell_type": "markdown",
   "id": "f0aedcf6",
   "metadata": {},
   "source": [
    "Con la capa `geom_point` se especifica que queremos realizar un gráfico de puntos"
   ]
  },
  {
   "cell_type": "code",
   "execution_count": null,
   "id": "f72d196d",
   "metadata": {},
   "outputs": [],
   "source": [
    "ggplot(data=sismos)+\n",
    "  geom_point(mapping=aes(x=Longitud,y=Latitud, color=zona),alpha=0.1)+\n",
    "  coord_map()"
   ]
  },
  {
   "cell_type": "code",
   "execution_count": null,
   "id": "efc68f64",
   "metadata": {},
   "outputs": [],
   "source": []
  }
 ],
 "metadata": {
  "kernelspec": {
   "display_name": "R",
   "language": "R",
   "name": "ir"
  },
  "language_info": {
   "codemirror_mode": "r",
   "file_extension": ".r",
   "mimetype": "text/x-r-source",
   "name": "R",
   "pygments_lexer": "r",
   "version": "3.6.1"
  }
 },
 "nbformat": 4,
 "nbformat_minor": 5
}
