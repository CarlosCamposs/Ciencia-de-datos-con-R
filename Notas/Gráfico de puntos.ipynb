{
 "cells": [
  {
   "cell_type": "markdown",
   "id": "17c65ab9",
   "metadata": {},
   "source": [
    "# Gráfico de puntos"
   ]
  },
  {
   "cell_type": "code",
   "execution_count": 3,
   "id": "40c52366",
   "metadata": {},
   "outputs": [
    {
     "name": "stderr",
     "output_type": "stream",
     "text": [
      "Warning message:\n",
      "\"package 'nycflights13' was built under R version 3.6.3\""
     ]
    },
    {
     "ename": "ERROR",
     "evalue": "Error: package or namespace load failed for 'nycflights13' in loadNamespace(i, c(lib.loc, .libPaths()), versionCheck = vI[[i]]):\n there is no package called 'lifecycle'\n",
     "output_type": "error",
     "traceback": [
      "Error: package or namespace load failed for 'nycflights13' in loadNamespace(i, c(lib.loc, .libPaths()), versionCheck = vI[[i]]):\n there is no package called 'lifecycle'\nTraceback:\n",
      "1. library(nycflights13)",
      "2. tryCatch({\n .     attr(package, \"LibPath\") <- which.lib.loc\n .     ns <- loadNamespace(package, lib.loc)\n .     env <- attachNamespace(ns, pos = pos, deps, exclude, include.only)\n . }, error = function(e) {\n .     P <- if (!is.null(cc <- conditionCall(e))) \n .         paste(\" in\", deparse(cc)[1L])\n .     else \"\"\n .     msg <- gettextf(\"package or namespace load failed for %s%s:\\n %s\", \n .         sQuote(package), P, conditionMessage(e))\n .     if (logical.return) \n .         message(paste(\"Error:\", msg), domain = NA)\n .     else stop(msg, call. = FALSE, domain = NA)\n . })",
      "3. tryCatchList(expr, classes, parentenv, handlers)",
      "4. tryCatchOne(expr, names, parentenv, handlers[[1L]])",
      "5. value[[3L]](cond)",
      "6. stop(msg, call. = FALSE, domain = NA)"
     ]
    }
   ],
   "source": [
    "# Cargamos las bibliotecas\n",
    "library(nycflights13)\n",
    "library(tidyverse)\n",
    "library(knitr)\n",
    "\n"
   ]
  },
  {
   "cell_type": "code",
   "execution_count": 4,
   "id": "7a971197",
   "metadata": {},
   "outputs": [],
   "source": [
    "# Cargamos los datos\n",
    "setwd(\"C:/Users/Carlos Daniel/Desktop/GitHub/Ciencia-de-datos-con-R/datasets\")\n",
    "sismos <- read.csv(\"sismos.csv\")"
   ]
  },
  {
   "cell_type": "markdown",
   "id": "f0aedcf6",
   "metadata": {},
   "source": [
    "Con la capa `geom_point` se especifica que queremos realizar un gráfico de puntos"
   ]
  },
  {
   "cell_type": "code",
   "execution_count": 5,
   "id": "f72d196d",
   "metadata": {},
   "outputs": [
    {
     "ename": "ERROR",
     "evalue": "Error in ggplot(data = sismos): no se pudo encontrar la función \"ggplot\"\n",
     "output_type": "error",
     "traceback": [
      "Error in ggplot(data = sismos): no se pudo encontrar la función \"ggplot\"\nTraceback:\n"
     ]
    }
   ],
   "source": [
    "ggplot(data=sismos)+\n",
    "  geom_point(mapping=aes(x=Longitud,y=Latitud, color=zona),alpha=0.1)+\n",
    "  coord_map()"
   ]
  },
  {
   "cell_type": "code",
   "execution_count": null,
   "id": "efc68f64",
   "metadata": {},
   "outputs": [],
   "source": []
  }
 ],
 "metadata": {
  "kernelspec": {
   "display_name": "R",
   "language": "R",
   "name": "ir"
  },
  "language_info": {
   "codemirror_mode": "r",
   "file_extension": ".r",
   "mimetype": "text/x-r-source",
   "name": "R",
   "pygments_lexer": "r",
   "version": "3.6.1"
  }
 },
 "nbformat": 4,
 "nbformat_minor": 5
}
